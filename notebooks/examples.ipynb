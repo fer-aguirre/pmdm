{
 "cells": [
  {
   "cell_type": "markdown",
   "metadata": {},
   "source": [
    "# Imports"
   ]
  },
  {
   "cell_type": "code",
   "execution_count": 10,
   "metadata": {},
   "outputs": [],
   "source": [
    "import configparser\n",
    "import json\n",
    "import requests\n",
    "import subprocess\n",
    "from subprocess import Popen\n",
    "import pandas as pd"
   ]
  },
  {
   "cell_type": "markdown",
   "metadata": {},
   "source": [
    "# Get API token"
   ]
  },
  {
   "cell_type": "code",
   "execution_count": 3,
   "metadata": {},
   "outputs": [],
   "source": [
    "# Create an instance\n",
    "config = configparser.ConfigParser()\n",
    "\n",
    "# Open the file\n",
    "config.read(\"../config.ini\")\n",
    "\n",
    "# Get pmdm token from api section\n",
    "token = config.get('api', 'pmdm')\n"
   ]
  },
  {
   "cell_type": "markdown",
   "metadata": {},
   "source": [
    "# Classify text"
   ]
  },
  {
   "cell_type": "code",
   "execution_count": 4,
   "metadata": {},
   "outputs": [
    {
     "data": {
      "text/plain": [
       "{'tweet': 'esto es un ejemplo',\n",
       " 'tweet_': 'esto es un ejemplo',\n",
       " 'score': 0.9953651428222656,\n",
       " 'lang': 'es',\n",
       " 'label': 'no_evidence',\n",
       " 'value': False,\n",
       " 'elapsed_time': '0.0480 segs'}"
      ]
     },
     "execution_count": 4,
     "metadata": {},
     "output_type": "execute_result"
    }
   ],
   "source": [
    "# PMDM API\n",
    "url = 'https://turing.iimas.unam.mx/pmdm/api/classify'\n",
    "\n",
    "# Authorization headers\n",
    "headers = {'access-token': token}\n",
    "\n",
    "# Text example\n",
    "tweet = {'tweet': 'esto es un ejemplo'}\n",
    "\n",
    "# Request PMDM API\n",
    "response = requests.post(url, headers=headers, json=tweet)\n",
    "\n",
    "# Returns a JSON object\n",
    "response.json()"
   ]
  },
  {
   "cell_type": "markdown",
   "metadata": {},
   "source": [
    "## Pre-process tweets\n",
    "\n",
    "```\n",
    "\n",
    "Request body:\n",
    "\n",
    "\"model\": \"string\",\n",
    "\"use_lower\": \"boolean\",\n",
    "\"demojize\": \"boolean\",\n",
    "\"process_urls\": \"boolean\",\n",
    "\"process_mentions\": \"boolean\",\n",
    "\"process_hashtags\": \"boolean\",\n",
    "\"process_emojis\": \"boolean\",\n",
    "\"process_smileys\": \"boolean\",\n",
    "\"process_numbers\": \"boolean\",\n",
    "\"process_escaped_chars\": \"boolean\",\n",
    "\"tweet\": \"string\"\n",
    "\n",
    "```"
   ]
  },
  {
   "cell_type": "code",
   "execution_count": 5,
   "metadata": {},
   "outputs": [
    {
     "data": {
      "text/plain": [
       "{'tweet': '@user1 @user2 @user3 Olha a feminazi raivosa... 🤣',\n",
       " 'tweet_': '$MENTION$ $MENTION$ $MENTION$ Olha a feminazi raivosa... :rolling_on_the_floor_laughing:',\n",
       " 'score': 0.9976631999015808,\n",
       " 'lang': 'pt',\n",
       " 'label': 'misogynistic',\n",
       " 'value': True,\n",
       " 'elapsed_time': '0.1337 segs'}"
      ]
     },
     "execution_count": 5,
     "metadata": {},
     "output_type": "execute_result"
    }
   ],
   "source": [
    "# Portuguese example \n",
    "# 'model': 'pt'\n",
    "tweet = {\n",
    "    'model': 'pt',\n",
    "    'use_lower': 'false',\n",
    "    'demojize': 'true',\n",
    "    'process_urls': 'true',\n",
    "    'process_mentions': 'true',\n",
    "    'process_hashtags': 'true',\n",
    "    'process_emojis': 'false',\n",
    "    'process_smileys': 'false',\n",
    "    'process_numbers': 'false',\n",
    "    'process_escaped_chars': 'false',\n",
    "    'tweet': '@user1 @user2 @user3 Olha a feminazi raivosa... 🤣'\n",
    "    }\n",
    "\n",
    "response = requests.post(url, headers=headers, json=tweet)\n",
    "\n",
    "response.json()"
   ]
  },
  {
   "cell_type": "code",
   "execution_count": 6,
   "metadata": {},
   "outputs": [
    {
     "data": {
      "text/plain": [
       "{'tweet': 'jajajaja #ridicula no te vota nadie gorda sucia 🤮 https://t.co/example',\n",
       " 'tweet_': 'jajajaja $HASHTAG$ no te vota nadie gorda sucia :face_vomiting: $URL$',\n",
       " 'score': 0.9990070462226868,\n",
       " 'lang': 'es',\n",
       " 'label': 'misogynistic',\n",
       " 'value': True,\n",
       " 'elapsed_time': '0.1002 segs'}"
      ]
     },
     "execution_count": 6,
     "metadata": {},
     "output_type": "execute_result"
    }
   ],
   "source": [
    "# Spanish example\n",
    "# 'model': 'es'\n",
    "tweet = {\n",
    "  'tweet': 'jajajaja #ridicula no te vota nadie gorda sucia 🤮 https://t.co/example',\n",
    "  'use_lower': 'false',\n",
    "  'demojize': 'true',\n",
    "  'process_urls': 'true',\n",
    "  'process_mentions': 'true',\n",
    "  'process_hashtags': 'true',\n",
    "  'process_emojis': 'false',\n",
    "  'process_smileys': 'false',\n",
    "  'process_numbers': 'false',\n",
    "  'process_escaped_chars': 'false',\n",
    "  'model': 'es'\n",
    "    }\n",
    "\n",
    "response = requests.post(url, headers=headers, json=tweet)\n",
    "\n",
    "response.json()"
   ]
  },
  {
   "cell_type": "markdown",
   "metadata": {},
   "source": [
    "# Download file"
   ]
  },
  {
   "cell_type": "code",
   "execution_count": 21,
   "metadata": {},
   "outputs": [],
   "source": [
    "# Gist file\n",
    "url_gist = 'https://gist.githubusercontent.com/fer-aguirre/73635035b91c8cf0a45e66d9d51b80d8/raw/pmdmExample.csv'\n",
    "\n",
    "# Saving location\n",
    "location = './pmdmExample.csv'\n",
    "\n",
    "# Wget command to download gist file\n",
    "args = ['wget', '-O', location, url_gist]\n",
    "\n",
    "# Execute command arguments\n",
    "output = Popen(args, stdout=subprocess.DEVNULL, stderr=subprocess.STDOUT)"
   ]
  },
  {
   "cell_type": "markdown",
   "metadata": {},
   "source": [
    "# Classify file"
   ]
  },
  {
   "cell_type": "code",
   "execution_count": 22,
   "metadata": {},
   "outputs": [
    {
     "data": {
      "text/plain": [
       "{'results': [{'tweet': '\"@user1 @user2 Claro que no, que pregunta tan pendeja.🤣🤣🤣\",',\n",
       "   'tweet_': '\"$MENTION$ $MENTION$ Claro que no, que pregunta tan pendeja.:rolling_on_the_floor_laughing::rolling_on_the_floor_laughing::rolling_on_the_floor_laughing:\",',\n",
       "   'lang': 'es',\n",
       "   'score': 0.9993476867675781,\n",
       "   'label': 'no_evidence',\n",
       "   'value': False},\n",
       "  {'tweet': '\"@user1 Esta burra no sabe ni leer\",',\n",
       "   'tweet_': '\"$MENTION$ Esta burra no sabe ni leer\",',\n",
       "   'lang': 'es',\n",
       "   'score': 0.9989246726036072,\n",
       "   'label': 'misogynistic',\n",
       "   'value': True},\n",
       "  {'tweet': '\"Asquerosa y lamentable nuestra representación en el extranjero\",',\n",
       "   'tweet_': '\"Asquerosa y lamentable nuestra representación en el extranjero\",',\n",
       "   'lang': 'es',\n",
       "   'score': 0.9983320236206055,\n",
       "   'label': 'no_evidence',\n",
       "   'value': False},\n",
       "  {'tweet': '\"Se está haciendo de la vista gorda\",',\n",
       "   'tweet_': '\"Se está haciendo de la vista gorda\",',\n",
       "   'lang': 'es',\n",
       "   'score': 0.998530387878418,\n",
       "   'label': 'no_evidence',\n",
       "   'value': False},\n",
       "  {'tweet': '\"@user1 a vos te falta coger amargada 😜\"',\n",
       "   'tweet_': '\"$MENTION$ a vos te falta coger amargada :winking_face_with_tongue:\"',\n",
       "   'lang': 'es',\n",
       "   'score': 0.9989331364631653,\n",
       "   'label': 'misogynistic',\n",
       "   'value': True}],\n",
       " 'elapsed_time': '0.4024 segs'}"
      ]
     },
     "execution_count": 22,
     "metadata": {},
     "output_type": "execute_result"
    }
   ],
   "source": [
    "# PMDM API\n",
    "url_api = 'https://turing.iimas.unam.mx/pmdm/api/classify_file'\n",
    "\n",
    "# Token access\n",
    "headers = {'access-token': token}\n",
    "\n",
    "# File with Spanish examples\n",
    "files = {'uploaded_file': open('./pmdmExample.csv', 'rb')}\n",
    "\n",
    "# Tweet arguments required\n",
    "data = {\n",
    "        'model': 'es',\n",
    "        'use_lower': 'false', \n",
    "        'demojize': 'true', \n",
    "        'process_urls':'true', \n",
    "        'process_mentions': 'true', \n",
    "        'process_hashtags': 'true', \n",
    "        'process_emojis': 'false', \n",
    "        'process_smileys': 'false', \n",
    "        'process_numbers': 'false', \n",
    "        'process_escaped_chars': 'false'}\n",
    "\n",
    "# Post request\n",
    "response_file = requests.post(url_api, headers=headers, files=files, data=data)\n",
    "\n",
    "# Response request\n",
    "response_file.json()"
   ]
  },
  {
   "cell_type": "markdown",
   "metadata": {},
   "source": [
    "# Process JSON to DataFrame"
   ]
  },
  {
   "cell_type": "code",
   "execution_count": 16,
   "metadata": {},
   "outputs": [
    {
     "data": {
      "text/html": [
       "<div>\n",
       "<style scoped>\n",
       "    .dataframe tbody tr th:only-of-type {\n",
       "        vertical-align: middle;\n",
       "    }\n",
       "\n",
       "    .dataframe tbody tr th {\n",
       "        vertical-align: top;\n",
       "    }\n",
       "\n",
       "    .dataframe thead th {\n",
       "        text-align: right;\n",
       "    }\n",
       "</style>\n",
       "<table border=\"1\" class=\"dataframe\">\n",
       "  <thead>\n",
       "    <tr style=\"text-align: right;\">\n",
       "      <th></th>\n",
       "      <th>tweet</th>\n",
       "      <th>tweet_</th>\n",
       "      <th>lang</th>\n",
       "      <th>score</th>\n",
       "      <th>label</th>\n",
       "      <th>value</th>\n",
       "    </tr>\n",
       "  </thead>\n",
       "  <tbody>\n",
       "    <tr>\n",
       "      <th>0</th>\n",
       "      <td>\"@user1 @user2 Claro que no, que pregunta tan ...</td>\n",
       "      <td>\"$MENTION$ $MENTION$ Claro que no, que pregunt...</td>\n",
       "      <td>es</td>\n",
       "      <td>0.999348</td>\n",
       "      <td>no_evidence</td>\n",
       "      <td>False</td>\n",
       "    </tr>\n",
       "    <tr>\n",
       "      <th>1</th>\n",
       "      <td>\"@user1 Esta burra no sabe ni leer\",</td>\n",
       "      <td>\"$MENTION$ Esta burra no sabe ni leer\",</td>\n",
       "      <td>es</td>\n",
       "      <td>0.998925</td>\n",
       "      <td>misogynistic</td>\n",
       "      <td>True</td>\n",
       "    </tr>\n",
       "    <tr>\n",
       "      <th>2</th>\n",
       "      <td>\"Asquerosa y lamentable nuestra representación...</td>\n",
       "      <td>\"Asquerosa y lamentable nuestra representación...</td>\n",
       "      <td>es</td>\n",
       "      <td>0.998332</td>\n",
       "      <td>no_evidence</td>\n",
       "      <td>False</td>\n",
       "    </tr>\n",
       "    <tr>\n",
       "      <th>3</th>\n",
       "      <td>\"Se está haciendo de la vista gorda\",</td>\n",
       "      <td>\"Se está haciendo de la vista gorda\",</td>\n",
       "      <td>es</td>\n",
       "      <td>0.998530</td>\n",
       "      <td>no_evidence</td>\n",
       "      <td>False</td>\n",
       "    </tr>\n",
       "    <tr>\n",
       "      <th>4</th>\n",
       "      <td>\"@user1 a vos te falta coger amargada 😜\"</td>\n",
       "      <td>\"$MENTION$ a vos te falta coger amargada :wink...</td>\n",
       "      <td>es</td>\n",
       "      <td>0.998933</td>\n",
       "      <td>misogynistic</td>\n",
       "      <td>True</td>\n",
       "    </tr>\n",
       "  </tbody>\n",
       "</table>\n",
       "</div>"
      ],
      "text/plain": [
       "                                               tweet  \\\n",
       "0  \"@user1 @user2 Claro que no, que pregunta tan ...   \n",
       "1               \"@user1 Esta burra no sabe ni leer\",   \n",
       "2  \"Asquerosa y lamentable nuestra representación...   \n",
       "3              \"Se está haciendo de la vista gorda\",   \n",
       "4           \"@user1 a vos te falta coger amargada 😜\"   \n",
       "\n",
       "                                              tweet_ lang     score  \\\n",
       "0  \"$MENTION$ $MENTION$ Claro que no, que pregunt...   es  0.999348   \n",
       "1            \"$MENTION$ Esta burra no sabe ni leer\",   es  0.998925   \n",
       "2  \"Asquerosa y lamentable nuestra representación...   es  0.998332   \n",
       "3              \"Se está haciendo de la vista gorda\",   es  0.998530   \n",
       "4  \"$MENTION$ a vos te falta coger amargada :wink...   es  0.998933   \n",
       "\n",
       "          label  value  \n",
       "0   no_evidence  False  \n",
       "1  misogynistic   True  \n",
       "2   no_evidence  False  \n",
       "3   no_evidence  False  \n",
       "4  misogynistic   True  "
      ]
     },
     "execution_count": 16,
     "metadata": {},
     "output_type": "execute_result"
    }
   ],
   "source": [
    "# Get text from response\n",
    "text_data = response_file.text\n",
    "\n",
    "# Convert text to dictionary\n",
    "json_dict= json.loads(text_data)\n",
    "\n",
    "# Convert dictionary to dataframe\n",
    "df = pd.DataFrame.from_dict(json_dict['results'])\n",
    "\n",
    "# Show dataframe\n",
    "df"
   ]
  }
 ],
 "metadata": {
  "kernelspec": {
   "display_name": "Python 3",
   "language": "python",
   "name": "python3"
  },
  "language_info": {
   "codemirror_mode": {
    "name": "ipython",
    "version": 3
   },
   "file_extension": ".py",
   "mimetype": "text/x-python",
   "name": "python",
   "nbconvert_exporter": "python",
   "pygments_lexer": "ipython3",
   "version": "3.8.10"
  }
 },
 "nbformat": 4,
 "nbformat_minor": 4
}
